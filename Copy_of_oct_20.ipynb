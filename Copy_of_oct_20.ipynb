{
  "nbformat": 4,
  "nbformat_minor": 0,
  "metadata": {
    "colab": {
      "provenance": []
    },
    "kernelspec": {
      "name": "python3",
      "display_name": "Python 3"
    },
    "language_info": {
      "name": "python"
    }
  },
  "cells": [
    {
      "cell_type": "code",
      "source": [
        "mark=int(input())\n",
        "if mark > 50 :\n",
        "  print(\"you are passed\")\n",
        "if mark <50  :\n",
        "  print(\"you are faied\") "
      ],
      "metadata": {
        "colab": {
          "base_uri": "https://localhost:8080/"
        },
        "id": "odwB-ej8hNqO",
        "outputId": "9175d621-0e33-48a0-b903-66f4f8b3c0f1"
      },
      "execution_count": null,
      "outputs": [
        {
          "output_type": "stream",
          "name": "stdout",
          "text": [
            "51\n",
            "you are passed\n"
          ]
        }
      ]
    },
    {
      "cell_type": "code",
      "source": [],
      "metadata": {
        "id": "PapdB-UohyNt"
      },
      "execution_count": null,
      "outputs": []
    },
    {
      "cell_type": "code",
      "source": [
        "mark=int(input())\n",
        "if mark > 50 :\n",
        "  print(\"you are passed\")\n",
        "if mark <50  :\n",
        "  print(\"you are faied\") \n",
        "if mark == 50  :\n",
        "  print(\"just passed\")  "
      ],
      "metadata": {
        "colab": {
          "base_uri": "https://localhost:8080/"
        },
        "outputId": "fb05f0f3-d1f6-4242-aede-67df9652a51f",
        "id": "MUB2m74ejTqN"
      },
      "execution_count": null,
      "outputs": [
        {
          "output_type": "stream",
          "name": "stdout",
          "text": [
            "50\n",
            "just passed\n"
          ]
        }
      ]
    },
    {
      "cell_type": "code",
      "source": [
        "salary=int(input())\n",
        "if salary > 250000 :\n",
        "  print(\"taxable\")\n",
        "if salary < 250000 :\n",
        "  print(\"not taxable\")\n",
        "if salary == 250000 :\n",
        "  print(\"taxable\")  "
      ],
      "metadata": {
        "colab": {
          "base_uri": "https://localhost:8080/"
        },
        "id": "CDZozniJjnAR",
        "outputId": "2b8b0be7-f1c9-4ef1-8f4f-ac7fb98a048c"
      },
      "execution_count": null,
      "outputs": [
        {
          "output_type": "stream",
          "name": "stdout",
          "text": [
            "250000\n",
            "taxable\n"
          ]
        }
      ]
    },
    {
      "cell_type": "code",
      "source": [],
      "metadata": {
        "id": "rrmkJbrwlRn_"
      },
      "execution_count": null,
      "outputs": []
    },
    {
      "cell_type": "code",
      "source": [
        "salary=int(input())\n",
        "if salary > 250000 :\n",
        "  print(\"taxable\")\n",
        "  s=salary*10/100\n",
        "  print(s)\n",
        "if salary < 250000 :\n",
        "  print(\"not taxable\")\n",
        "if salary == 250000 :\n",
        "  print(\"taxable\")  \n"
      ],
      "metadata": {
        "colab": {
          "base_uri": "https://localhost:8080/"
        },
        "outputId": "e7f0f1ec-a1aa-4a3d-fcbe-b60ea9864e3d",
        "id": "WSHcKk4_l8Gy"
      },
      "execution_count": null,
      "outputs": [
        {
          "output_type": "stream",
          "name": "stdout",
          "text": [
            "300000\n",
            "taxable\n",
            "30000.0\n"
          ]
        }
      ]
    },
    {
      "cell_type": "code",
      "source": [],
      "metadata": {
        "id": "R21ueTZXmSKs"
      },
      "execution_count": null,
      "outputs": []
    },
    {
      "cell_type": "code",
      "source": [
        "salary=int(input())\n",
        "if salary > 250000 :\n",
        "  print(\"taxable\")\n",
        "  print((salary - 250000)*10/100)\n",
        "if salary < 250000 :\n",
        "  print(\"not taxable\")\n",
        "if salary == 250000 :\n",
        "  print(\"taxable\")  \n"
      ],
      "metadata": {
        "colab": {
          "base_uri": "https://localhost:8080/"
        },
        "outputId": "a009143d-1411-4029-bda7-700f94ed7070",
        "id": "ViBJbwM4pVy5"
      },
      "execution_count": null,
      "outputs": [
        {
          "output_type": "stream",
          "name": "stdout",
          "text": [
            "300000\n",
            "taxable\n",
            "5000.0\n"
          ]
        }
      ]
    },
    {
      "cell_type": "code",
      "source": [
        "salary=int(input())\n",
        "if salary < 250000 :\n",
        "  print(\"not taxable\")\n",
        "if salary > 250000 and salary < 500000 :\n",
        "  print(\"taxable\")\n",
        "  print(salary*10/100)\n",
        "if salary > 500000 :\n",
        "  print(\"taxable\")\n",
        "  print(salary*20/100)"
      ],
      "metadata": {
        "colab": {
          "base_uri": "https://localhost:8080/"
        },
        "id": "tDOpJpkyp3Om",
        "outputId": "0bd9cd4b-b010-42fc-de2b-4ca0eebc3835"
      },
      "execution_count": null,
      "outputs": [
        {
          "output_type": "stream",
          "name": "stdout",
          "text": [
            "600000\n",
            "taxable\n",
            "120000.0\n"
          ]
        }
      ]
    },
    {
      "cell_type": "code",
      "source": [
        "salary=int(input())\n",
        "if salary < 250000 :\n",
        "  print(\"not taxable\")\n",
        "if salary > 250000 and salary < 500000 :\n",
        "  print(\"taxable\")\n",
        "  print((salary-250000)*10/100)\n",
        "if salary > 500000 :\n",
        "  print(\"taxable\")\n",
        "  print((salary-500000)*20/100)"
      ],
      "metadata": {
        "colab": {
          "base_uri": "https://localhost:8080/"
        },
        "outputId": "b9933e66-8dc5-447d-ef47-7dbef853d141",
        "id": "2kiK4T1Bt2G_"
      },
      "execution_count": null,
      "outputs": [
        {
          "output_type": "stream",
          "name": "stdout",
          "text": [
            "750000\n",
            "taxable\n",
            "50000.0\n"
          ]
        }
      ]
    },
    {
      "cell_type": "code",
      "source": [],
      "metadata": {
        "id": "0-f2KB_quu1y"
      },
      "execution_count": null,
      "outputs": []
    },
    {
      "cell_type": "code",
      "source": [
        "salary=int(input())\n",
        "if salary < 250000 :\n",
        "  print(\"not taxable\")\n",
        "if salary > 250000 and salary < 500000 :\n",
        "  print(\"taxable\")\n",
        "  print((salary-250000)*10/100)\n",
        "if salary > 500000 :\n",
        "  print(\"taxable\")\n",
        "  print((salary-500000)*20/100)+((salary-250000)*10/100)"
      ],
      "metadata": {
        "colab": {
          "base_uri": "https://localhost:8080/",
          "height": 252
        },
        "outputId": "6b7e57b0-71dd-4296-e851-c89d5013d1da",
        "id": "5tmWQlBQyKeK"
      },
      "execution_count": null,
      "outputs": [
        {
          "output_type": "stream",
          "name": "stdout",
          "text": [
            "750000\n",
            "taxable\n",
            "50000.0\n"
          ]
        },
        {
          "output_type": "error",
          "ename": "TypeError",
          "evalue": "ignored",
          "traceback": [
            "\u001b[0;31m---------------------------------------------------------------------------\u001b[0m",
            "\u001b[0;31mTypeError\u001b[0m                                 Traceback (most recent call last)",
            "\u001b[0;32m<ipython-input-39-2e53f5cb5995>\u001b[0m in \u001b[0;36m<module>\u001b[0;34m\u001b[0m\n\u001b[1;32m      7\u001b[0m \u001b[0;32mif\u001b[0m \u001b[0msalary\u001b[0m \u001b[0;34m>\u001b[0m \u001b[0;36m500000\u001b[0m \u001b[0;34m:\u001b[0m\u001b[0;34m\u001b[0m\u001b[0;34m\u001b[0m\u001b[0m\n\u001b[1;32m      8\u001b[0m   \u001b[0mprint\u001b[0m\u001b[0;34m(\u001b[0m\u001b[0;34m\"taxable\"\u001b[0m\u001b[0;34m)\u001b[0m\u001b[0;34m\u001b[0m\u001b[0;34m\u001b[0m\u001b[0m\n\u001b[0;32m----> 9\u001b[0;31m   \u001b[0mprint\u001b[0m\u001b[0;34m(\u001b[0m\u001b[0;34m(\u001b[0m\u001b[0msalary\u001b[0m\u001b[0;34m-\u001b[0m\u001b[0;36m500000\u001b[0m\u001b[0;34m)\u001b[0m\u001b[0;34m*\u001b[0m\u001b[0;36m20\u001b[0m\u001b[0;34m/\u001b[0m\u001b[0;36m100\u001b[0m\u001b[0;34m)\u001b[0m\u001b[0;34m+\u001b[0m\u001b[0;34m(\u001b[0m\u001b[0;34m(\u001b[0m\u001b[0msalary\u001b[0m\u001b[0;34m-\u001b[0m\u001b[0;36m250000\u001b[0m\u001b[0;34m)\u001b[0m\u001b[0;34m*\u001b[0m\u001b[0;36m10\u001b[0m\u001b[0;34m/\u001b[0m\u001b[0;36m100\u001b[0m\u001b[0;34m)\u001b[0m\u001b[0;34m\u001b[0m\u001b[0;34m\u001b[0m\u001b[0m\n\u001b[0m",
            "\u001b[0;31mTypeError\u001b[0m: unsupported operand type(s) for +: 'NoneType' and 'float'"
          ]
        }
      ]
    },
    {
      "cell_type": "code",
      "source": [],
      "metadata": {
        "id": "zPgIZNo80mZD"
      },
      "execution_count": null,
      "outputs": []
    }
  ]
}