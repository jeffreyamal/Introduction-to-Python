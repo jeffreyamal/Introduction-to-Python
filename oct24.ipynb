{
  "nbformat": 4,
  "nbformat_minor": 0,
  "metadata": {
    "colab": {
      "provenance": []
    },
    "kernelspec": {
      "name": "python3",
      "display_name": "Python 3"
    },
    "language_info": {
      "name": "python"
    }
  },
  "cells": [
    {
      "cell_type": "code",
      "execution_count": null,
      "metadata": {
        "id": "jvU-wLybX-Nf"
      },
      "outputs": [],
      "source": [
        "x=[1,2,3,4,5,6]"
      ]
    },
    {
      "cell_type": "code",
      "source": [
        "print(x)\n",
        "type(x)"
      ],
      "metadata": {
        "colab": {
          "base_uri": "https://localhost:8080/"
        },
        "id": "yy0AQswNYpnC",
        "outputId": "f879e570-b49c-4545-a980-9d407c807da3"
      },
      "execution_count": null,
      "outputs": [
        {
          "output_type": "stream",
          "name": "stdout",
          "text": [
            "[1, 2, 3, 4, 5, 6]\n"
          ]
        },
        {
          "output_type": "execute_result",
          "data": {
            "text/plain": [
              "list"
            ]
          },
          "metadata": {},
          "execution_count": 5
        }
      ]
    },
    {
      "cell_type": "code",
      "source": [
        "x[0]"
      ],
      "metadata": {
        "colab": {
          "base_uri": "https://localhost:8080/"
        },
        "id": "UjZJgjbeZ9jk",
        "outputId": "0941ae74-24c7-4fcf-fa4c-001664bb7b5d"
      },
      "execution_count": null,
      "outputs": [
        {
          "output_type": "execute_result",
          "data": {
            "text/plain": [
              "1"
            ]
          },
          "metadata": {},
          "execution_count": 9
        }
      ]
    },
    {
      "cell_type": "code",
      "source": [
        "x[1]"
      ],
      "metadata": {
        "colab": {
          "base_uri": "https://localhost:8080/"
        },
        "id": "2podHuqqaH9E",
        "outputId": "43d9674f-43b0-4c29-dd50-e53121caa67b"
      },
      "execution_count": null,
      "outputs": [
        {
          "output_type": "execute_result",
          "data": {
            "text/plain": [
              "2"
            ]
          },
          "metadata": {},
          "execution_count": 10
        }
      ]
    },
    {
      "cell_type": "code",
      "source": [
        "x[2]"
      ],
      "metadata": {
        "colab": {
          "base_uri": "https://localhost:8080/"
        },
        "id": "w0UWT2RSaLmc",
        "outputId": "c3945f41-2c3d-423c-c3c5-fd78a36872c8"
      },
      "execution_count": null,
      "outputs": [
        {
          "output_type": "execute_result",
          "data": {
            "text/plain": [
              "3"
            ]
          },
          "metadata": {},
          "execution_count": 11
        }
      ]
    },
    {
      "cell_type": "code",
      "source": [
        "x[3]"
      ],
      "metadata": {
        "colab": {
          "base_uri": "https://localhost:8080/"
        },
        "id": "-WoqLZaoaMps",
        "outputId": "8aaa8f8d-d465-4b9f-fa5e-805ecc2d2ec9"
      },
      "execution_count": null,
      "outputs": [
        {
          "output_type": "execute_result",
          "data": {
            "text/plain": [
              "4"
            ]
          },
          "metadata": {},
          "execution_count": 12
        }
      ]
    },
    {
      "cell_type": "code",
      "source": [
        "x[4]"
      ],
      "metadata": {
        "colab": {
          "base_uri": "https://localhost:8080/"
        },
        "id": "huH5PC3haNrM",
        "outputId": "9269bd15-2b8b-40b6-d0d3-1d00aee7a840"
      },
      "execution_count": null,
      "outputs": [
        {
          "output_type": "execute_result",
          "data": {
            "text/plain": [
              "5"
            ]
          },
          "metadata": {},
          "execution_count": 14
        }
      ]
    },
    {
      "cell_type": "code",
      "source": [
        "x[5]"
      ],
      "metadata": {
        "colab": {
          "base_uri": "https://localhost:8080/"
        },
        "id": "0QHkM8eNaOZk",
        "outputId": "ce1c1e0b-0cd4-4d85-e733-72d415fda453"
      },
      "execution_count": null,
      "outputs": [
        {
          "output_type": "execute_result",
          "data": {
            "text/plain": [
              "6"
            ]
          },
          "metadata": {},
          "execution_count": 15
        }
      ]
    },
    {
      "cell_type": "code",
      "source": [
        "x=[10,20,30,40]\n",
        "y=[35,46,22,96]"
      ],
      "metadata": {
        "id": "jnCws2M3aTGE"
      },
      "execution_count": null,
      "outputs": []
    },
    {
      "cell_type": "code",
      "source": [
        "x[0]*y[0]+x[1]*y[1]+x[2]*y[2]+x[3]*y[3] "
      ],
      "metadata": {
        "colab": {
          "base_uri": "https://localhost:8080/"
        },
        "id": "tbAFiZnmaw67",
        "outputId": "7db26ae0-4801-4d3b-854d-2d754887824a"
      },
      "execution_count": null,
      "outputs": [
        {
          "output_type": "execute_result",
          "data": {
            "text/plain": [
              "5770"
            ]
          },
          "metadata": {},
          "execution_count": 21
        }
      ]
    },
    {
      "cell_type": "code",
      "source": [
        "x=[\"kerala\" , \"tamil nadu\"]\n",
        "y=[\"chennai\" , \"trivandrum\"]"
      ],
      "metadata": {
        "id": "6xXCMW1kbace"
      },
      "execution_count": null,
      "outputs": []
    },
    {
      "cell_type": "code",
      "source": [
        "print(x[0],y[1])\n",
        "print(y[0],x[1])"
      ],
      "metadata": {
        "colab": {
          "base_uri": "https://localhost:8080/"
        },
        "id": "zVH7WyrTdt0e",
        "outputId": "4da3b229-501a-4cd6-ec39-87fd59167fdf"
      },
      "execution_count": null,
      "outputs": [
        {
          "output_type": "stream",
          "name": "stdout",
          "text": [
            "kerala trivandrum\n",
            "chennai tamil nadu\n"
          ]
        }
      ]
    },
    {
      "cell_type": "code",
      "source": [
        "x=[10,25,26,36,39,55]"
      ],
      "metadata": {
        "id": "MKj1iV4mfSU4"
      },
      "execution_count": null,
      "outputs": []
    },
    {
      "cell_type": "code",
      "source": [
        "x[-1]"
      ],
      "metadata": {
        "colab": {
          "base_uri": "https://localhost:8080/"
        },
        "id": "yUT5z_98frf7",
        "outputId": "53d1a121-15e2-4f70-cad9-64040f3e50b6"
      },
      "execution_count": null,
      "outputs": [
        {
          "output_type": "execute_result",
          "data": {
            "text/plain": [
              "55"
            ]
          },
          "metadata": {},
          "execution_count": 33
        }
      ]
    },
    {
      "cell_type": "code",
      "source": [
        "x[-2]"
      ],
      "metadata": {
        "colab": {
          "base_uri": "https://localhost:8080/"
        },
        "id": "fDvLJ1K5fyaO",
        "outputId": "44ca1c40-3093-469d-d108-fcdfd8b3cdde"
      },
      "execution_count": null,
      "outputs": [
        {
          "output_type": "execute_result",
          "data": {
            "text/plain": [
              "39"
            ]
          },
          "metadata": {},
          "execution_count": 34
        }
      ]
    },
    {
      "cell_type": "code",
      "source": [
        "x[-3]"
      ],
      "metadata": {
        "colab": {
          "base_uri": "https://localhost:8080/"
        },
        "id": "QMtYRlzNf4U-",
        "outputId": "27f07036-1745-41cf-f187-9c61a9a5ade7"
      },
      "execution_count": null,
      "outputs": [
        {
          "output_type": "execute_result",
          "data": {
            "text/plain": [
              "36"
            ]
          },
          "metadata": {},
          "execution_count": 35
        }
      ]
    },
    {
      "cell_type": "code",
      "source": [
        "x[-4]"
      ],
      "metadata": {
        "colab": {
          "base_uri": "https://localhost:8080/"
        },
        "id": "1Xh8HmnRf82v",
        "outputId": "0b0c35f5-f340-4024-a4aa-7aabd22614c0"
      },
      "execution_count": null,
      "outputs": [
        {
          "output_type": "execute_result",
          "data": {
            "text/plain": [
              "26"
            ]
          },
          "metadata": {},
          "execution_count": 36
        }
      ]
    },
    {
      "cell_type": "code",
      "source": [
        "x[-5]"
      ],
      "metadata": {
        "colab": {
          "base_uri": "https://localhost:8080/"
        },
        "id": "KRhZV4yzf-QH",
        "outputId": "1b46725a-a2cb-4e20-ad02-e9e56c518e63"
      },
      "execution_count": null,
      "outputs": [
        {
          "output_type": "execute_result",
          "data": {
            "text/plain": [
              "25"
            ]
          },
          "metadata": {},
          "execution_count": 37
        }
      ]
    },
    {
      "cell_type": "code",
      "source": [
        "x[-6]"
      ],
      "metadata": {
        "colab": {
          "base_uri": "https://localhost:8080/"
        },
        "id": "Y3DR6TQrf_XP",
        "outputId": "2e7c3867-ac2f-4f15-ee41-7776859a74c3"
      },
      "execution_count": null,
      "outputs": [
        {
          "output_type": "execute_result",
          "data": {
            "text/plain": [
              "10"
            ]
          },
          "metadata": {},
          "execution_count": 38
        }
      ]
    },
    {
      "cell_type": "code",
      "source": [
        "print(x[-1])\n",
        "print(x[-2])\n",
        "print(x[-3])\n",
        "print(x[-4])\n",
        "print(x[-5])\n",
        "print(x[-6])"
      ],
      "metadata": {
        "colab": {
          "base_uri": "https://localhost:8080/"
        },
        "id": "x6_0Y2NwgArP",
        "outputId": "a1116fde-c29b-46b4-86ce-43d682c8e0ce"
      },
      "execution_count": null,
      "outputs": [
        {
          "output_type": "stream",
          "name": "stdout",
          "text": [
            "55\n",
            "39\n",
            "36\n",
            "26\n",
            "25\n",
            "10\n"
          ]
        }
      ]
    },
    {
      "cell_type": "code",
      "source": [
        "x[-5]*x[-3]"
      ],
      "metadata": {
        "colab": {
          "base_uri": "https://localhost:8080/"
        },
        "id": "Gg-vbxXsg5mt",
        "outputId": "b1cd1fb8-e70b-4c90-fb92-6964472f5e2f"
      },
      "execution_count": null,
      "outputs": [
        {
          "output_type": "execute_result",
          "data": {
            "text/plain": [
              "900"
            ]
          },
          "metadata": {},
          "execution_count": 41
        }
      ]
    },
    {
      "cell_type": "code",
      "source": [
        "if x[3]==10:\n",
        "  print(\"x is 10\")\n",
        "else:\n",
        "  print(\"x is not 10\")  "
      ],
      "metadata": {
        "colab": {
          "base_uri": "https://localhost:8080/"
        },
        "id": "raJ4efGvhG3t",
        "outputId": "954ae7f4-88c6-4802-e567-015558731dba"
      },
      "execution_count": null,
      "outputs": [
        {
          "output_type": "stream",
          "name": "stdout",
          "text": [
            "x is not 10\n"
          ]
        }
      ]
    },
    {
      "cell_type": "code",
      "source": [
        "if x[5]==55:\n",
        "  print(\"x is 55\")\n",
        "else:\n",
        "  print(\"x is not 55\")  "
      ],
      "metadata": {
        "id": "Tri3IvVWibi8",
        "colab": {
          "base_uri": "https://localhost:8080/"
        },
        "outputId": "9e449bbd-bc37-4d7b-f218-0cbbd8a6fe05"
      },
      "execution_count": null,
      "outputs": [
        {
          "output_type": "stream",
          "name": "stdout",
          "text": [
            "x is 55\n"
          ]
        }
      ]
    },
    {
      "cell_type": "code",
      "source": [
        "x=\"jeffrey\"\n",
        "x[6]"
      ],
      "metadata": {
        "colab": {
          "base_uri": "https://localhost:8080/",
          "height": 35
        },
        "id": "E2sgJitMjyjD",
        "outputId": "3e6a7163-4b01-4ac7-8712-adb5c296576c"
      },
      "execution_count": null,
      "outputs": [
        {
          "output_type": "execute_result",
          "data": {
            "text/plain": [
              "'y'"
            ],
            "application/vnd.google.colaboratory.intrinsic+json": {
              "type": "string"
            }
          },
          "metadata": {},
          "execution_count": 48
        }
      ]
    },
    {
      "cell_type": "code",
      "source": [
        "if x[0]==x[6]:\n",
        "  print(\"same\")\n",
        "else:\n",
        "  print(\"not same\")  "
      ],
      "metadata": {
        "colab": {
          "base_uri": "https://localhost:8080/"
        },
        "id": "uGQtBQigj-LY",
        "outputId": "d14238a7-d7f4-4223-a485-c19e7388d3c5"
      },
      "execution_count": null,
      "outputs": [
        {
          "output_type": "stream",
          "name": "stdout",
          "text": [
            "not same\n"
          ]
        }
      ]
    },
    {
      "cell_type": "code",
      "source": [
        "x=[10,25,26,36,39,55]\n",
        "for a in x:\n",
        "  print(a)"
      ],
      "metadata": {
        "colab": {
          "base_uri": "https://localhost:8080/"
        },
        "id": "uO2XiRW-kx7X",
        "outputId": "9e519f99-173e-40d1-86e3-a6f90f428a38"
      },
      "execution_count": null,
      "outputs": [
        {
          "output_type": "stream",
          "name": "stdout",
          "text": [
            "10\n",
            "25\n",
            "26\n",
            "36\n",
            "39\n",
            "55\n"
          ]
        }
      ]
    },
    {
      "cell_type": "code",
      "source": [
        "x=(\"jeffrey\")\n",
        "for a in x:\n",
        "  print(a)"
      ],
      "metadata": {
        "colab": {
          "base_uri": "https://localhost:8080/"
        },
        "outputId": "826ffa66-7aee-4c2c-cf12-85a7266fba74",
        "id": "LQdGdNNcn3zF"
      },
      "execution_count": null,
      "outputs": [
        {
          "output_type": "stream",
          "name": "stdout",
          "text": [
            "j\n",
            "e\n",
            "f\n",
            "f\n",
            "r\n",
            "e\n",
            "y\n"
          ]
        }
      ]
    },
    {
      "cell_type": "code",
      "source": [
        "x=[\"jeffrey\"]\n",
        "for a in x:\n",
        " if a==\"i\":\n",
        "  print(\"my name has i\")\n",
        " else :\n",
        "  print(\"no i in my name\")"
      ],
      "metadata": {
        "colab": {
          "base_uri": "https://localhost:8080/"
        },
        "outputId": "b84a41f9-5c56-4e19-b85b-5c1a9686f075",
        "id": "LcCMQIRDoIyv"
      },
      "execution_count": 70,
      "outputs": [
        {
          "output_type": "stream",
          "name": "stdout",
          "text": [
            "no i in my name\n"
          ]
        }
      ]
    },
    {
      "cell_type": "code",
      "source": [
        "x=[10,25,26,36,39,55]\n",
        "k=0\n",
        "for a in x:\n",
        "  print(\"k=\",k)\n",
        "  print(\"a=\",a)\n",
        "  k=k+a\n",
        "  print(\"k+a =\",k)"
      ],
      "metadata": {
        "colab": {
          "base_uri": "https://localhost:8080/"
        },
        "id": "miCEozePojwx",
        "outputId": "16cc6e69-283a-40f2-bb4d-bc80db370706"
      },
      "execution_count": 87,
      "outputs": [
        {
          "output_type": "stream",
          "name": "stdout",
          "text": [
            "k= 0\n",
            "a= 10\n",
            "k+a = 10\n",
            "k= 10\n",
            "a= 25\n",
            "k+a = 35\n",
            "k= 35\n",
            "a= 26\n",
            "k+a = 61\n",
            "k= 61\n",
            "a= 36\n",
            "k+a = 97\n",
            "k= 97\n",
            "a= 39\n",
            "k+a = 136\n",
            "k= 136\n",
            "a= 55\n",
            "k+a = 191\n"
          ]
        }
      ]
    },
    {
      "cell_type": "code",
      "source": [],
      "metadata": {
        "id": "Onq6OAxds8sr"
      },
      "execution_count": null,
      "outputs": []
    }
  ]
}