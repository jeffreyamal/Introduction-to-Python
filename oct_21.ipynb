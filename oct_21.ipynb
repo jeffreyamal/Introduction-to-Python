{
  "nbformat": 4,
  "nbformat_minor": 0,
  "metadata": {
    "colab": {
      "provenance": []
    },
    "kernelspec": {
      "name": "python3",
      "display_name": "Python 3"
    },
    "language_info": {
      "name": "python"
    }
  },
  "cells": [
    {
      "cell_type": "code",
      "execution_count": 19,
      "metadata": {
        "colab": {
          "base_uri": "https://localhost:8080/"
        },
        "id": "zGJ7FCNmoYdZ",
        "outputId": "23d1dac5-33c1-4c10-e599-46575082e7ac"
      },
      "outputs": [
        {
          "output_type": "stream",
          "name": "stdout",
          "text": [
            "enter the salary20000000\n",
            "taxable\n",
            "3200000.0\n"
          ]
        }
      ],
      "source": [
        "salary=int(input(\"enter the salary\"))\n",
        "if salary < 250000:\n",
        "  a=print(\"not taxable\")\n",
        "if salary >= 250000 and salary < 500000:\n",
        "  b=print(\"taxable\")\n",
        "  c=print((salary-250000)*10/100)\n",
        "if salary >= 500000 and salary < 750000:\n",
        "  d=print(\"taxable\")\n",
        "  e=print((salary-500000)*20/100)\n",
        "if salary >= 750000 and salary < 10000000:\n",
        "  f=print(\"taxable\")\n",
        "  g=print((salary-750000)*30/100) \n",
        "if salary > 10000000:\n",
        "  h=print(\"taxable\")\n",
        "  i=print(((salary-10000000)*30/100)+(salary-10000000)*2/100)\n",
        "  print(a+b+c+d+e+f+g+h+i)\n",
        "\n"
      ]
    },
    {
      "cell_type": "code",
      "source": [
        "s=int(input('Enter Salary:'))\n",
        "if s>=250000 and s<500000:\n",
        "  print('YOU ARE TAXABLE')\n",
        "  x=s-250000\n",
        "  t=x*0.10\n",
        "  print('TAX:',t)\n",
        "elif s>=500000 and s<750000:\n",
        "  print('YOU ARE TAXABLE')\n",
        "  x=250000*0.10\n",
        "  y=(s-500000)*0.20\n",
        "  print('TAX:',x+y)\n",
        "elif s>=750000 and s<10000000:\n",
        "  print('YOU ARE TAXABLE')\n",
        "  x=250000*0.10\n",
        "  y=250000*0.20\n",
        "  z=(s-750000)*0.30\n",
        "  print('TAX:',x+y+z)\n",
        "elif s>=10000000:\n",
        "  print('YOU ARE TAXABLE')\n",
        "  x=250000*0.10\n",
        "  y=250000*0.20\n",
        "  z=(s-750000)*0.30\n",
        "  a=(s-10000000)*0.02\n",
        "  print('TAX:',x+y+z+a)\n",
        "elif s<250000:\n",
        "  print('YOU ARE NOT TAXABLE')\n"
      ],
      "metadata": {
        "colab": {
          "base_uri": "https://localhost:8080/"
        },
        "id": "TBW1iHY1qT7P",
        "outputId": "471bae24-36bf-4990-896a-ee3fa506909e"
      },
      "execution_count": 21,
      "outputs": [
        {
          "output_type": "stream",
          "name": "stdout",
          "text": [
            "Enter Salary:15000000\n",
            "YOU ARE TAXABLE\n",
            "TAX: 4450000.0\n"
          ]
        }
      ]
    },
    {
      "cell_type": "code",
      "source": [],
      "metadata": {
        "id": "Aq7bI5Z-7A-3"
      },
      "execution_count": 21,
      "outputs": []
    }
  ]
}