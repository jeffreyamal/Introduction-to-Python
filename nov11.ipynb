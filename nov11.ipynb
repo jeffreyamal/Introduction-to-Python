{
  "nbformat": 4,
  "nbformat_minor": 0,
  "metadata": {
    "colab": {
      "provenance": []
    },
    "kernelspec": {
      "name": "python3",
      "display_name": "Python 3"
    },
    "language_info": {
      "name": "python"
    }
  },
  "cells": [
    {
      "cell_type": "code",
      "execution_count": 3,
      "metadata": {
        "colab": {
          "base_uri": "https://localhost:8080/"
        },
        "id": "RZhOIOqjoH1r",
        "outputId": "bc1cb3ae-7851-469c-80a6-993965faee1d"
      },
      "outputs": [
        {
          "output_type": "stream",
          "name": "stdout",
          "text": [
            "enter the travel sourcebus\n",
            "enter the destinationkollam\n",
            "enter no of passengers5\n",
            "travel source = bus\n",
            "destination = kollam\n",
            "no of passengers = 5\n"
          ]
        }
      ],
      "source": [
        "travel_source=input(\"enter the travel source\")\n",
        "destination=input(\"enter the destination\")\n",
        "no_of_passengers=int(input(\"enter no of passengers\"))\n",
        "print(\"travel source =\",travel_source)\n",
        "print(\"destination =\",destination)\n",
        "print(\"no of passengers =\",no_of_passengers)"
      ]
    },
    {
      "cell_type": "code",
      "source": [
        "total_ticket_fare=int(input(\"enter the total ticket fare=\"))\n",
        "no_of_passengers=int(input(\"enter no of passengers=\"))\n",
        "x=total_ticket_fare/no_of_passengers\n",
        "print(\"ticket fare per person=\",x)"
      ],
      "metadata": {
        "colab": {
          "base_uri": "https://localhost:8080/"
        },
        "id": "d6i0MUc-p5bz",
        "outputId": "99026dab-ea1b-4272-afc6-8b56885aa06d"
      },
      "execution_count": 7,
      "outputs": [
        {
          "output_type": "stream",
          "name": "stdout",
          "text": [
            "enter the total ticket fare=7000\n",
            "enter no of passengers=70\n",
            "ticket fare per person= 100.0\n"
          ]
        }
      ]
    },
    {
      "cell_type": "code",
      "source": [
        "name=input(\"enter your name=\")\n",
        "ticket_fare=input(\"enter ticket fare=\")\n",
        "print(name,ticket_fare)"
      ],
      "metadata": {
        "colab": {
          "base_uri": "https://localhost:8080/"
        },
        "id": "1Q2OjWXmruRo",
        "outputId": "517e8a9f-dbca-4667-ba52-ba774d1fe824"
      },
      "execution_count": 11,
      "outputs": [
        {
          "output_type": "stream",
          "name": "stdout",
          "text": [
            "enter your name=jeffrey\n",
            "enter ticket fare=100\n",
            "jeffrey 100\n"
          ]
        }
      ]
    },
    {
      "cell_type": "code",
      "source": [
        "total_ticket_fare=int(input(\"enter total ticket fare\"))\n",
        "if total_ticket_fare>10000:\n",
        "  print(\"eligible for discount\")"
      ],
      "metadata": {
        "colab": {
          "base_uri": "https://localhost:8080/"
        },
        "id": "bdOt9c9ktVo5",
        "outputId": "a6f6a809-c531-4ddb-f30b-af9f65c31dc9"
      },
      "execution_count": 12,
      "outputs": [
        {
          "output_type": "stream",
          "name": "stdout",
          "text": [
            "enter total ticket fare15000\n",
            "eligible for discount\n"
          ]
        }
      ]
    },
    {
      "cell_type": "code",
      "source": [
        "total_ticket_fare=int(input(\"enter total ticket fare=\"))\n",
        "if total_ticket_fare>15000:\n",
        "  print(\"eligible for 20% discount\")\n",
        "else :\n",
        "  print(\"eligible for 10% discount\")"
      ],
      "metadata": {
        "colab": {
          "base_uri": "https://localhost:8080/"
        },
        "outputId": "12844e6e-4a87-45a0-c5ac-6027a824887f",
        "id": "PAMTC8tdvGHc"
      },
      "execution_count": 18,
      "outputs": [
        {
          "output_type": "stream",
          "name": "stdout",
          "text": [
            "enter total ticket fare=21000\n",
            "eligible for 20% discount\n"
          ]
        }
      ]
    },
    {
      "cell_type": "code",
      "source": [
        "total_ticket_fare=int(input(\"enter total ticket fare=\"))\n",
        "if total_ticket_fare>15000:\n",
        "  x=total_ticket_fare*20/100\n",
        "  print(\"eligible for 20% discount\",x)\n",
        "if total_ticket_fare>10000 and total_ticket_fare<15000:\n",
        "  y=total_ticket_fare*10/100\n",
        "  print(\"eligible for 10% discount\",y)\n",
        "if total_ticket_fare<10000:\n",
        "  z=total_ticket_fare*5/100\n",
        "  print(\"eligible for 5% discount\",z)  "
      ],
      "metadata": {
        "colab": {
          "base_uri": "https://localhost:8080/"
        },
        "outputId": "b4f9e74f-87cc-4658-f62d-5156301c9800",
        "id": "BHcemzqhwZkb"
      },
      "execution_count": 22,
      "outputs": [
        {
          "output_type": "stream",
          "name": "stdout",
          "text": [
            "enter total ticket fare=17000\n",
            "eligible for 20% discount 3400.0\n"
          ]
        }
      ]
    },
    {
      "cell_type": "code",
      "source": [
        "n1=int(input(\"enter number=\"))\n",
        "if n1>0:\n",
        "  print(\"given number is positive\")\n",
        "if n1==0:\n",
        "  print(\"given number is zero\")\n",
        "if n1<0:\n",
        "  print(\"given number is negative\") "
      ],
      "metadata": {
        "colab": {
          "base_uri": "https://localhost:8080/"
        },
        "id": "ayuThDpOyiia",
        "outputId": "f990b4d9-2ac2-4fbd-971c-c60f403f657d"
      },
      "execution_count": 26,
      "outputs": [
        {
          "output_type": "stream",
          "name": "stdout",
          "text": [
            "enter number=10\n",
            "given number is positive\n"
          ]
        }
      ]
    },
    {
      "cell_type": "code",
      "source": [
        "age=int(input(\"enter age\"))\n",
        "if age>18:\n",
        "  print(\"adult\")\n",
        "elif age>13 and age<18:\n",
        "  print(\"teenager\")\n",
        "elif age>6 and age<13:\n",
        "  print(\"kid\")\n",
        "elif age>2 and age<6:\n",
        "  print(\"toddler\")\n",
        "elif age<2:\n",
        "  print(\"infant\")"
      ],
      "metadata": {
        "colab": {
          "base_uri": "https://localhost:8080/"
        },
        "id": "RsQiZKPyz5Sc",
        "outputId": "ad0497a8-467f-45e5-9ad4-2ab30a823e7c"
      },
      "execution_count": 31,
      "outputs": [
        {
          "output_type": "stream",
          "name": "stdout",
          "text": [
            "enter age20\n",
            "adult\n"
          ]
        }
      ]
    },
    {
      "cell_type": "code",
      "source": [
        "initial=input(\"enter initials=\")\n",
        "if initial in(\"a,e,i,o,u\"):\n",
        "  print(\"vowel\")\n",
        "else:\n",
        "  print(\"no vowel\")"
      ],
      "metadata": {
        "colab": {
          "base_uri": "https://localhost:8080/"
        },
        "id": "rdAnMg5S1GLm",
        "outputId": "132a4bd5-96bd-4c1d-b76a-044bbb4f602a"
      },
      "execution_count": 34,
      "outputs": [
        {
          "output_type": "stream",
          "name": "stdout",
          "text": [
            "enter initials=m\n",
            "no vowel\n"
          ]
        }
      ]
    },
    {
      "cell_type": "code",
      "source": [
        "name=input(\"enter your name=\")\n",
        "for i in name:\n",
        "  print(i)"
      ],
      "metadata": {
        "colab": {
          "base_uri": "https://localhost:8080/"
        },
        "id": "tg4AjIi62Q90",
        "outputId": "a1393831-0d76-4018-9afe-a9da14aaa88c"
      },
      "execution_count": 35,
      "outputs": [
        {
          "output_type": "stream",
          "name": "stdout",
          "text": [
            "enter your name=jeffrey\n",
            "j\n",
            "e\n",
            "f\n",
            "f\n",
            "r\n",
            "e\n",
            "y\n"
          ]
        }
      ]
    },
    {
      "cell_type": "code",
      "source": [
        "for i in range(45,89,2):\n",
        "  print(i)"
      ],
      "metadata": {
        "colab": {
          "base_uri": "https://localhost:8080/"
        },
        "id": "C_xDyLD74XYS",
        "outputId": "f3323a12-781d-48eb-ce20-b560f9ae6389"
      },
      "execution_count": 36,
      "outputs": [
        {
          "output_type": "stream",
          "name": "stdout",
          "text": [
            "45\n",
            "47\n",
            "49\n",
            "51\n",
            "53\n",
            "55\n",
            "57\n",
            "59\n",
            "61\n",
            "63\n",
            "65\n",
            "67\n",
            "69\n",
            "71\n",
            "73\n",
            "75\n",
            "77\n",
            "79\n",
            "81\n",
            "83\n",
            "85\n",
            "87\n"
          ]
        }
      ]
    },
    {
      "cell_type": "code",
      "source": [
        "x=0\n",
        "for i in range(1,11):\n",
        "  x=x+i\n",
        "  print(i,x)"
      ],
      "metadata": {
        "colab": {
          "base_uri": "https://localhost:8080/"
        },
        "id": "Rcqciaxr5LVu",
        "outputId": "24fc685e-a854-4eb9-e17d-988be37a250a"
      },
      "execution_count": 38,
      "outputs": [
        {
          "output_type": "stream",
          "name": "stdout",
          "text": [
            "1 1\n",
            "2 3\n",
            "3 6\n",
            "4 10\n",
            "5 15\n",
            "6 21\n",
            "7 28\n",
            "8 36\n",
            "9 45\n",
            "10 55\n"
          ]
        }
      ]
    },
    {
      "cell_type": "code",
      "source": [
        "n=0\n",
        "for i in range(1,5):\n",
        "  print(i)  "
      ],
      "metadata": {
        "colab": {
          "base_uri": "https://localhost:8080/"
        },
        "id": "oGvhEzTl5v6k",
        "outputId": "3cd7fe5e-1205-419d-b731-634641b60658"
      },
      "execution_count": 46,
      "outputs": [
        {
          "output_type": "stream",
          "name": "stdout",
          "text": [
            "1\n",
            "2\n",
            "3\n",
            "4\n"
          ]
        }
      ]
    },
    {
      "cell_type": "code",
      "source": [
        "n=4\n",
        "for i in range(5):\n",
        "  for j in range(i):\n",
        "    print(i, end=\" \")\n",
        "  print(\" \") "
      ],
      "metadata": {
        "colab": {
          "base_uri": "https://localhost:8080/"
        },
        "id": "1ilWQnuU6bC7",
        "outputId": "62eb1e38-e4be-4110-c7a2-cc2d46f193ee"
      },
      "execution_count": 55,
      "outputs": [
        {
          "output_type": "stream",
          "name": "stdout",
          "text": [
            " \n",
            "1  \n",
            "2 2  \n",
            "3 3 3  \n",
            "4 4 4 4  \n"
          ]
        }
      ]
    },
    {
      "cell_type": "code",
      "source": [],
      "metadata": {
        "id": "8Ba3QHgC-pgL"
      },
      "execution_count": 52,
      "outputs": []
    }
  ]
}