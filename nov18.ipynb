{
  "nbformat": 4,
  "nbformat_minor": 0,
  "metadata": {
    "colab": {
      "provenance": []
    },
    "kernelspec": {
      "name": "python3",
      "display_name": "Python 3"
    },
    "language_info": {
      "name": "python"
    }
  },
  "cells": [
    {
      "cell_type": "code",
      "source": [
        "num=5\n",
        "type(num)"
      ],
      "metadata": {
        "colab": {
          "base_uri": "https://localhost:8080/"
        },
        "id": "8p9UWnEb2y73",
        "outputId": "97bbaa98-c580-43fd-8e58-abc8bc204f21"
      },
      "execution_count": 6,
      "outputs": [
        {
          "output_type": "execute_result",
          "data": {
            "text/plain": [
              "int"
            ]
          },
          "metadata": {},
          "execution_count": 6
        }
      ]
    },
    {
      "cell_type": "code",
      "source": [
        "y=10.5\n",
        "type(y)"
      ],
      "metadata": {
        "colab": {
          "base_uri": "https://localhost:8080/"
        },
        "id": "xg5hVYjm25lL",
        "outputId": "6099da0f-567c-4d18-d649-47a8e1d73f8e"
      },
      "execution_count": 7,
      "outputs": [
        {
          "output_type": "execute_result",
          "data": {
            "text/plain": [
              "float"
            ]
          },
          "metadata": {},
          "execution_count": 7
        }
      ]
    },
    {
      "cell_type": "code",
      "source": [
        "a=10\n",
        "b=7.5\n",
        "type(a+b)"
      ],
      "metadata": {
        "colab": {
          "base_uri": "https://localhost:8080/"
        },
        "id": "b9lim4fO3ZMN",
        "outputId": "43c6addf-e74e-4abf-c970-336649542300"
      },
      "execution_count": 8,
      "outputs": [
        {
          "output_type": "execute_result",
          "data": {
            "text/plain": [
              "float"
            ]
          },
          "metadata": {},
          "execution_count": 8
        }
      ]
    },
    {
      "cell_type": "code",
      "source": [
        "c=10+5j\n",
        "type(c)"
      ],
      "metadata": {
        "colab": {
          "base_uri": "https://localhost:8080/"
        },
        "id": "t3G2Y-N13f9t",
        "outputId": "524f80fb-1739-4020-efb2-114c99a4cad4"
      },
      "execution_count": 9,
      "outputs": [
        {
          "output_type": "execute_result",
          "data": {
            "text/plain": [
              "complex"
            ]
          },
          "metadata": {},
          "execution_count": 9
        }
      ]
    },
    {
      "cell_type": "code",
      "source": [
        "name=\"jeff\"\n",
        "type(name)"
      ],
      "metadata": {
        "colab": {
          "base_uri": "https://localhost:8080/"
        },
        "id": "k6KL0IEC4CAT",
        "outputId": "e5a0a11a-c75c-4cd8-9564-4be295bbbd00"
      },
      "execution_count": 12,
      "outputs": [
        {
          "output_type": "execute_result",
          "data": {
            "text/plain": [
              "str"
            ]
          },
          "metadata": {},
          "execution_count": 12
        }
      ]
    },
    {
      "cell_type": "code",
      "source": [
        "s=\"this is rajagiri\"\n",
        "type(s)"
      ],
      "metadata": {
        "colab": {
          "base_uri": "https://localhost:8080/"
        },
        "id": "wGDv8teJ4RNa",
        "outputId": "4fcb963b-b963-4a3b-9288-ed55eb1b8de5"
      },
      "execution_count": 13,
      "outputs": [
        {
          "output_type": "execute_result",
          "data": {
            "text/plain": [
              "str"
            ]
          },
          "metadata": {},
          "execution_count": 13
        }
      ]
    },
    {
      "cell_type": "code",
      "source": [
        "friends=[\"irene\",\"amaan\",\"pranav\",\"alex\",\"jomes\"]\n",
        "type(friends)"
      ],
      "metadata": {
        "colab": {
          "base_uri": "https://localhost:8080/"
        },
        "id": "z4fjVzbk4pDH",
        "outputId": "ef3bdb5a-20af-42a1-ab4c-4ff36d51dd87"
      },
      "execution_count": 17,
      "outputs": [
        {
          "output_type": "execute_result",
          "data": {
            "text/plain": [
              "list"
            ]
          },
          "metadata": {},
          "execution_count": 17
        }
      ]
    },
    {
      "cell_type": "code",
      "source": [
        "friends=[\"irene\",\"amaan\",\"pranav\",\"alex\",\"jomes\"]\n",
        "type(friends)\n",
        "print(friends[4])"
      ],
      "metadata": {
        "colab": {
          "base_uri": "https://localhost:8080/"
        },
        "outputId": "027b8cf0-39f1-4113-ee86-19e8e986f86c",
        "id": "nhqbwKBv6PPA"
      },
      "execution_count": 20,
      "outputs": [
        {
          "output_type": "stream",
          "name": "stdout",
          "text": [
            "jomes\n"
          ]
        }
      ]
    },
    {
      "cell_type": "code",
      "source": [
        "friends=[\"irene\",\"amaan\",\"pranav\",\"alex\",\"jomes\"]\n",
        "oldfriends=[\"joey\",\"ross\",\"monica\"]\n",
        "x=friends+oldfriends\n",
        "print(x)\n",
        "friends.pop()"
      ],
      "metadata": {
        "colab": {
          "base_uri": "https://localhost:8080/",
          "height": 53
        },
        "outputId": "068b5d89-de08-49a6-e283-0ff64ab67477",
        "id": "Xu5FzO-v8l4A"
      },
      "execution_count": 26,
      "outputs": [
        {
          "output_type": "stream",
          "name": "stdout",
          "text": [
            "['irene', 'amaan', 'pranav', 'alex', 'jomes', 'joey', 'ross', 'monica']\n"
          ]
        },
        {
          "output_type": "execute_result",
          "data": {
            "text/plain": [
              "'jomes'"
            ],
            "application/vnd.google.colaboratory.intrinsic+json": {
              "type": "string"
            }
          },
          "metadata": {},
          "execution_count": 26
        }
      ]
    },
    {
      "cell_type": "code",
      "source": [
        "friends.append(\"mariyama\")\n",
        "print(friends)"
      ],
      "metadata": {
        "colab": {
          "base_uri": "https://localhost:8080/"
        },
        "id": "CzmHVmi89BYR",
        "outputId": "8f36bbfb-f106-44ad-9d88-f7aa6e9e7898"
      },
      "execution_count": 27,
      "outputs": [
        {
          "output_type": "stream",
          "name": "stdout",
          "text": [
            "['irene', 'amaan', 'pranav', 'alex', 'mariyama']\n"
          ]
        }
      ]
    },
    {
      "cell_type": "code",
      "source": [],
      "metadata": {
        "id": "K7VZxeSN-Hej"
      },
      "execution_count": null,
      "outputs": []
    },
    {
      "cell_type": "code",
      "source": [
        "friends=[\"irene\",\"amaan\",\"pranav\",\"alex\",\"jomes\"]\n",
        "oldfriends=[\"joey\",\"ross\",\"monica\"]\n",
        "friends.sort()\n",
        "print(friends)\n",
        "friends.reverse()\n",
        "print(friends)\n",
        "friends.insert(1,\"gerril\")\n",
        "print(friends)"
      ],
      "metadata": {
        "colab": {
          "base_uri": "https://localhost:8080/"
        },
        "outputId": "dda8225d-dc79-480f-a398-bace05ea01e5",
        "id": "TAwK1WHH-_kw"
      },
      "execution_count": 34,
      "outputs": [
        {
          "output_type": "stream",
          "name": "stdout",
          "text": [
            "['alex', 'amaan', 'irene', 'jomes', 'pranav']\n",
            "['pranav', 'jomes', 'irene', 'amaan', 'alex']\n",
            "['pranav', 'gerril', 'jomes', 'irene', 'amaan', 'alex']\n"
          ]
        }
      ]
    },
    {
      "cell_type": "code",
      "source": [
        "tuple_items=(10,30,50,70.5,\"str\")\n",
        "type(tuple_items)"
      ],
      "metadata": {
        "colab": {
          "base_uri": "https://localhost:8080/"
        },
        "outputId": "ece60225-c942-42fd-8cf3-701a5ee5c439",
        "id": "olqtLELFCTmy"
      },
      "execution_count": 36,
      "outputs": [
        {
          "output_type": "execute_result",
          "data": {
            "text/plain": [
              "tuple"
            ]
          },
          "metadata": {},
          "execution_count": 36
        }
      ]
    },
    {
      "cell_type": "code",
      "source": [
        "marks=[10,20,30,40,50]\n",
        "set1=set(marks)\n",
        "print(set1)"
      ],
      "metadata": {
        "colab": {
          "base_uri": "https://localhost:8080/"
        },
        "id": "7WzSvD6FESu9",
        "outputId": "bfa26536-5964-41f9-ebcf-92b8d165b4e9"
      },
      "execution_count": 37,
      "outputs": [
        {
          "output_type": "stream",
          "name": "stdout",
          "text": [
            "{40, 10, 50, 20, 30}\n"
          ]
        }
      ]
    },
    {
      "cell_type": "code",
      "source": [
        "dict={\"name\":\"jeffrey\",\"ph no\":\"7034040327\",\"place\":\"kollam\"}\n",
        "print(dict)\n",
        "print(dict.keys())\n",
        "print(dict.values())\n",
        "print(dict.items())\n",
        "dict.update({\"dob\":\"28-03-04\"})\n",
        "print(dict)"
      ],
      "metadata": {
        "colab": {
          "base_uri": "https://localhost:8080/"
        },
        "id": "QUHDGJbrGaL5",
        "outputId": "1f4e3932-35a2-436c-a2c9-2395dcb6d587"
      },
      "execution_count": 43,
      "outputs": [
        {
          "output_type": "stream",
          "name": "stdout",
          "text": [
            "{'name': 'jeffrey', 'ph no': '7034040327', 'place': 'kollam'}\n",
            "dict_keys(['name', 'ph no', 'place'])\n",
            "dict_values(['jeffrey', '7034040327', 'kollam'])\n",
            "dict_items([('name', 'jeffrey'), ('ph no', '7034040327'), ('place', 'kollam')])\n",
            "{'name': 'jeffrey', 'ph no': '7034040327', 'place': 'kollam', 'dob': '28-03-04'}\n"
          ]
        }
      ]
    },
    {
      "cell_type": "code",
      "source": [
        "def add(x,y):\n",
        "  return(x+y)\n",
        "add(2,3)"
      ],
      "metadata": {
        "colab": {
          "base_uri": "https://localhost:8080/"
        },
        "id": "NsweA-FnIt7k",
        "outputId": "7e01f822-372f-4951-81bc-6211f947277f"
      },
      "execution_count": 46,
      "outputs": [
        {
          "output_type": "execute_result",
          "data": {
            "text/plain": [
              "5"
            ]
          },
          "metadata": {},
          "execution_count": 46
        }
      ]
    },
    {
      "cell_type": "code",
      "source": [
        "def multiplication(x,y,z):\n",
        "  return(x*y*z)\n",
        "multiplication(2,3,4)  "
      ],
      "metadata": {
        "colab": {
          "base_uri": "https://localhost:8080/"
        },
        "id": "0mF191-aMF_L",
        "outputId": "ca0880aa-d113-4a32-caa7-69affe1e2471"
      },
      "execution_count": 47,
      "outputs": [
        {
          "output_type": "execute_result",
          "data": {
            "text/plain": [
              "24"
            ]
          },
          "metadata": {},
          "execution_count": 47
        }
      ]
    },
    {
      "cell_type": "code",
      "source": [],
      "metadata": {
        "id": "NsfnTfXkMYqJ"
      },
      "execution_count": null,
      "outputs": []
    }
  ]
}