{
  "nbformat": 4,
  "nbformat_minor": 0,
  "metadata": {
    "colab": {
      "provenance": []
    },
    "kernelspec": {
      "name": "python3",
      "display_name": "Python 3"
    },
    "language_info": {
      "name": "python"
    }
  },
  "cells": [
    {
      "cell_type": "code",
      "source": [
        "name=input(\"enter your name:\")\n",
        "phno=int(input(\"enter ph no:\"))\n",
        "print(name)\n",
        "print(phno)"
      ],
      "metadata": {
        "colab": {
          "base_uri": "https://localhost:8080/"
        },
        "id": "kTDUlranhIfd",
        "outputId": "5fd52654-0191-48e7-81fe-5951f012b154"
      },
      "execution_count": 7,
      "outputs": [
        {
          "output_type": "stream",
          "name": "stdout",
          "text": [
            "enter your name:jeffrey\n",
            "enter ph no:7034040327\n",
            "jeffrey\n",
            "7034040327\n"
          ]
        }
      ]
    },
    {
      "cell_type": "code",
      "source": [
        "m1=int(input(\"enter mark=\"))\n",
        "m2=int(input(\"enter mark=\"))\n",
        "m3=int(input(\"enter mark=\"))\n",
        "total = m1 + m2 + m3\n",
        "print(\"total marks=\",total)"
      ],
      "metadata": {
        "colab": {
          "base_uri": "https://localhost:8080/"
        },
        "id": "HaPzwnX5hmuK",
        "outputId": "f46e7446-2729-4bf6-bd4a-6da29e6307bc"
      },
      "execution_count": 16,
      "outputs": [
        {
          "output_type": "stream",
          "name": "stdout",
          "text": [
            "enter mark=20\n",
            "enter mark=20\n",
            "enter mark=20\n",
            "total marks= 60\n"
          ]
        }
      ]
    },
    {
      "cell_type": "code",
      "source": [
        "m1=int(input(\"enter mark=\"))\n",
        "m2=int(input(\"enter mark=\"))\n",
        "m3=int(input(\"enter mark=\"))\n",
        "total = m1 + m2 + m3\n",
        "avg = total/3 \n",
        "print(\"total marks=\",total)\n",
        "print(\"avg marks=\",avg)"
      ],
      "metadata": {
        "colab": {
          "base_uri": "https://localhost:8080/"
        },
        "outputId": "3e6ed0b8-20e7-4472-9264-9f4aad5ea611",
        "id": "rm6m8AbflB6Q"
      },
      "execution_count": 17,
      "outputs": [
        {
          "output_type": "stream",
          "name": "stdout",
          "text": [
            "enter mark=20\n",
            "enter mark=20\n",
            "enter mark=20\n",
            "total marks= 60\n",
            "avg marks= 20.0\n"
          ]
        }
      ]
    },
    {
      "cell_type": "code",
      "source": [
        "m1=int(input(\"enter number=\"))\n",
        "m2=int(input(\"enter number=\"))\n",
        "m3=int(input(\"enter number=\"))\n",
        "if m1>m2 and m1>m3:\n",
        "  print(\"larger number is\",m1)\n",
        "if m2>m1 and m2>m3:\n",
        "  print(\"larger number is\",m2)\n",
        "if m3>m1 and m3>m2:\n",
        "  print(\"larger number is\",m3)"
      ],
      "metadata": {
        "colab": {
          "base_uri": "https://localhost:8080/"
        },
        "id": "COnonoLYjm6F",
        "outputId": "35809ea4-5e57-4bb7-e7d4-0441d9685a51"
      },
      "execution_count": 25,
      "outputs": [
        {
          "output_type": "stream",
          "name": "stdout",
          "text": [
            "enter number=10\n",
            "enter number=30\n",
            "enter number=20\n",
            "larger number is 30\n"
          ]
        }
      ]
    },
    {
      "cell_type": "code",
      "source": [
        "n1=int(input(\"enter number=\"))\n",
        "if n1%2 !=0:\n",
        "  print(\"odd\")\n",
        "else:\n",
        "  print(\"even\") "
      ],
      "metadata": {
        "colab": {
          "base_uri": "https://localhost:8080/"
        },
        "id": "lM65mPSbqzvy",
        "outputId": "50a8fdaf-4ac1-472e-ac2a-f051588b57f0"
      },
      "execution_count": 36,
      "outputs": [
        {
          "output_type": "stream",
          "name": "stdout",
          "text": [
            "enter number=7\n",
            "odd\n"
          ]
        }
      ]
    },
    {
      "cell_type": "code",
      "source": [
        "for i in range(1,11):\n",
        "  print(i)"
      ],
      "metadata": {
        "colab": {
          "base_uri": "https://localhost:8080/"
        },
        "id": "tVTAOFMrvpYZ",
        "outputId": "e4094145-5881-44f1-bae9-a83a59d7ad71"
      },
      "execution_count": 39,
      "outputs": [
        {
          "output_type": "stream",
          "name": "stdout",
          "text": [
            "1\n",
            "2\n",
            "3\n",
            "4\n",
            "5\n",
            "6\n",
            "7\n",
            "8\n",
            "9\n",
            "10\n"
          ]
        }
      ]
    },
    {
      "cell_type": "code",
      "source": [
        "for i in range(1,11):\n",
        " if i%2 ==0:\n",
        "  print(i)"
      ],
      "metadata": {
        "colab": {
          "base_uri": "https://localhost:8080/"
        },
        "id": "tUFH2gZlyxiY",
        "outputId": "983e51c5-25a0-4a14-c00e-040896c10072"
      },
      "execution_count": 42,
      "outputs": [
        {
          "output_type": "stream",
          "name": "stdout",
          "text": [
            "2\n",
            "4\n",
            "6\n",
            "8\n",
            "10\n"
          ]
        }
      ]
    },
    {
      "cell_type": "code",
      "source": [
        "for i in range(1,11):\n",
        "  print(i,\"*5=\",i*5)"
      ],
      "metadata": {
        "colab": {
          "base_uri": "https://localhost:8080/"
        },
        "id": "CPUO6LP10mnW",
        "outputId": "eb54793b-4f6c-4dd6-d699-16ff2e9c50d6"
      },
      "execution_count": 43,
      "outputs": [
        {
          "output_type": "stream",
          "name": "stdout",
          "text": [
            "1 *5= 5\n",
            "2 *5= 10\n",
            "3 *5= 15\n",
            "4 *5= 20\n",
            "5 *5= 25\n",
            "6 *5= 30\n",
            "7 *5= 35\n",
            "8 *5= 40\n",
            "9 *5= 45\n",
            "10 *5= 50\n"
          ]
        }
      ]
    },
    {
      "cell_type": "code",
      "source": [],
      "metadata": {
        "id": "0jSrKMYD1p1y"
      },
      "execution_count": null,
      "outputs": []
    }
  ]
}