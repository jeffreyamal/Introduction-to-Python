{
  "nbformat": 4,
  "nbformat_minor": 0,
  "metadata": {
    "colab": {
      "provenance": []
    },
    "kernelspec": {
      "name": "python3",
      "display_name": "Python 3"
    },
    "language_info": {
      "name": "python"
    }
  },
  "cells": [
    {
      "cell_type": "code",
      "execution_count": null,
      "metadata": {
        "colab": {
          "base_uri": "https://localhost:8080/"
        },
        "id": "stx6qMfrs8-q",
        "outputId": "e7d38ca2-64dc-44c0-c989-88fa9ea4575b"
      },
      "outputs": [
        {
          "output_type": "stream",
          "name": "stdout",
          "text": [
            "hello world\n"
          ]
        }
      ],
      "source": [
        "def fun_name():\n",
        "  print(\"hello world\")\n",
        "\n",
        "fun_name()"
      ]
    },
    {
      "cell_type": "code",
      "source": [
        "def fun_name(x):\n",
        "  print(\"welcome\" +  x)\n",
        "\n",
        "fun_name(\" john\")\n",
        "fun_name(\" adam\")\n",
        "fun_name(\" mary\")"
      ],
      "metadata": {
        "colab": {
          "base_uri": "https://localhost:8080/"
        },
        "id": "5ZZ_rPWWtGh-",
        "outputId": "6e1943f5-aa3e-4d22-bc2c-9d9db61b3b8f"
      },
      "execution_count": null,
      "outputs": [
        {
          "output_type": "stream",
          "name": "stdout",
          "text": [
            "welcome john\n",
            "welcome adam\n",
            "welcome mary\n"
          ]
        }
      ]
    },
    {
      "cell_type": "code",
      "execution_count": null,
      "metadata": {
        "colab": {
          "base_uri": "https://localhost:8080/"
        },
        "outputId": "21841977-9b2f-4867-f715-a5d24dfb4ade",
        "id": "EwAcN51ovIT-"
      },
      "outputs": [
        {
          "output_type": "stream",
          "name": "stdout",
          "text": [
            "fifa world cup\n"
          ]
        }
      ],
      "source": [
        "def fun_name():\n",
        "  print(\"fifa world cup\")\n",
        "\n",
        "fun_name()"
      ]
    },
    {
      "cell_type": "code",
      "source": [
        "def jeff(a,b,c):\n",
        "  print(a+b+c)\n",
        "\n",
        "jeff(\"jeffrey\",\" amaldas\",\" christopher\")"
      ],
      "metadata": {
        "colab": {
          "base_uri": "https://localhost:8080/"
        },
        "id": "0hg6ZFO_vMMh",
        "outputId": "2f3dd599-08f8-4c31-bcfc-f5f40e677c24"
      },
      "execution_count": null,
      "outputs": [
        {
          "output_type": "stream",
          "name": "stdout",
          "text": [
            "jeffrey amaldas christopher\n"
          ]
        }
      ]
    },
    {
      "cell_type": "code",
      "source": [
        "def jeff(a,b,c):\n",
        "  print(c,a,b)\n",
        "\n",
        "jeff(a=\"jeffrey\",b=\" amaldas\",c=\" christopher\")"
      ],
      "metadata": {
        "colab": {
          "base_uri": "https://localhost:8080/"
        },
        "outputId": "f914a878-3110-4198-9116-974927b06b59",
        "id": "I7uGVQ_Cx8-q"
      },
      "execution_count": null,
      "outputs": [
        {
          "output_type": "stream",
          "name": "stdout",
          "text": [
            " christopher jeffrey  amaldas\n"
          ]
        }
      ]
    },
    {
      "cell_type": "code",
      "source": [
        "def arg(*x):\n",
        "  print(\"second fav football player: \",x[1])\n",
        "\n",
        "arg(\"messi\",\"ronaldo\",\"kdb\")  "
      ],
      "metadata": {
        "colab": {
          "base_uri": "https://localhost:8080/"
        },
        "id": "-9gci21VyHOe",
        "outputId": "42be2b0f-e2bc-46c0-f836-7d4e49abc4ff"
      },
      "execution_count": null,
      "outputs": [
        {
          "output_type": "stream",
          "name": "stdout",
          "text": [
            "second fav football player:  ronaldo\n"
          ]
        }
      ]
    },
    {
      "cell_type": "code",
      "source": [
        "def team(country= \"argentina\"):\n",
        "  print(\"i am from \"+ country)\n",
        "\n",
        "team(\"sweden\")\n",
        "team(\"india\")\n",
        "team()\n",
        "team(\"brazil\")  "
      ],
      "metadata": {
        "colab": {
          "base_uri": "https://localhost:8080/"
        },
        "id": "24ybHRJsy_Xw",
        "outputId": "26992c53-8da2-49c6-8848-ed2f0502b68e"
      },
      "execution_count": null,
      "outputs": [
        {
          "output_type": "stream",
          "name": "stdout",
          "text": [
            "i am from sweden\n",
            "i am from india\n",
            "i am from argentina\n",
            "i am from brazil\n"
          ]
        }
      ]
    },
    {
      "cell_type": "code",
      "source": [
        "def name()"
      ],
      "metadata": {
        "id": "UtkZhfJ312dT"
      },
      "execution_count": null,
      "outputs": []
    }
  ]
}