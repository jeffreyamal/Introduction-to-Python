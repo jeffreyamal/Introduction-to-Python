{
  "nbformat": 4,
  "nbformat_minor": 0,
  "metadata": {
    "colab": {
      "provenance": []
    },
    "kernelspec": {
      "name": "python3",
      "display_name": "Python 3"
    },
    "language_info": {
      "name": "python"
    }
  },
  "cells": [
    {
      "cell_type": "code",
      "execution_count": 1,
      "metadata": {
        "colab": {
          "base_uri": "https://localhost:8080/"
        },
        "id": "9prcKIBXhGSl",
        "outputId": "0b243565-d057-4f46-d36d-52a7ecdc4c31"
      },
      "outputs": [
        {
          "output_type": "stream",
          "name": "stdout",
          "text": [
            "enter number-5\n",
            "5\n"
          ]
        }
      ],
      "source": [
        "x=int(input(\"enter number\"))\n",
        "if x<0:\n",
        "  print(-x)\n",
        "else:\n",
        "  print(x)  "
      ]
    },
    {
      "cell_type": "code",
      "source": [
        "num=int(input())\n",
        "if(num>0):\n",
        "  print(\"absolte value of \",num,\"is\" ,num)\n",
        "else:\n",
        "  num=num*(-1)\n",
        "  print(\"absolute value of \", -num, \"is\",num)  "
      ],
      "metadata": {
        "colab": {
          "base_uri": "https://localhost:8080/"
        },
        "id": "L9j7hJCGjP3G",
        "outputId": "73c06b42-2e5c-491c-8fff-e548dba2a17e"
      },
      "execution_count": 5,
      "outputs": [
        {
          "output_type": "stream",
          "name": "stdout",
          "text": [
            "-10\n",
            "absolute value of  -10 is 10\n"
          ]
        }
      ]
    },
    {
      "cell_type": "code",
      "source": [
        "x=int(input(\"enter marks \"))\n",
        "if x<25:\n",
        "  print(\"F\")\n",
        "if x>=25 and x<45:\n",
        "  print(\"E\")\n",
        "if x>=45 and x<50:\n",
        "  print(\"D\")\n",
        "if x>=50 and x<60:\n",
        "  print(\"C\")\n",
        "if x>=60 and x<80:\n",
        "  print(\"B\")\n",
        "if x>80:\n",
        "  print(\"A\")      "
      ],
      "metadata": {
        "colab": {
          "base_uri": "https://localhost:8080/"
        },
        "id": "fRSzqAXejl4L",
        "outputId": "214e0e65-c304-4f14-f268-64d30f6b4aa0"
      },
      "execution_count": 9,
      "outputs": [
        {
          "output_type": "stream",
          "name": "stdout",
          "text": [
            "enter marks 55\n",
            "C\n"
          ]
        }
      ]
    },
    {
      "cell_type": "code",
      "source": [
        "x=int(input(\"no of classes held \"))\n",
        "y=int(input(\"no of classes attended \"))\n",
        "z=y/x*100\n",
        "print(\"attendance percetage \",z)\n",
        "if z<75:\n",
        "  print(\"student is not allowed to write exam\")\n",
        "else:\n",
        "  print(\"student is allowed to write exam\") "
      ],
      "metadata": {
        "colab": {
          "base_uri": "https://localhost:8080/"
        },
        "id": "gUhTimbJmz-m",
        "outputId": "812b3229-8fb1-4f13-a32a-365e48536d02"
      },
      "execution_count": 13,
      "outputs": [
        {
          "output_type": "stream",
          "name": "stdout",
          "text": [
            "no of classes held 25\n",
            "no of classes attended 20\n",
            "attendance percetage  80.0\n",
            "student is allowed to write exam\n"
          ]
        }
      ]
    },
    {
      "cell_type": "code",
      "source": [
        "print(\"1,addition\")\n",
        "print(\"2,subtraction\")\n",
        "print(\"3,multiplication\")\n",
        "print(\"4,division\")\n",
        "print(\"5,modulus\")\n",
        "print(\"6,floor division\")\n",
        "print(\"7,exponent\")\n",
        "x=int(input(\"select a number \"))\n",
        "m1=int(input(\"enter a number \"))\n",
        "m2=int(input(\"enter a number \"))\n",
        "if x==1:\n",
        "  print(m1+m2)\n",
        "if x==2:\n",
        "  print(m1-m2)\n",
        "if x==3:\n",
        "  print(m1*m2)\n",
        "if x==4:\n",
        "  print(m1/m2)\n",
        "if x==5:\n",
        "  print(m1%m2)\n",
        "if x==6:\n",
        "  print(m1//m2)\n",
        "if x==7:\n",
        "  print(m1**m2)          "
      ],
      "metadata": {
        "colab": {
          "base_uri": "https://localhost:8080/"
        },
        "id": "dO6_5Cmpo0hq",
        "outputId": "a2523942-5ba6-4b0d-cdb0-6ca2e86c10d0"
      },
      "execution_count": 24,
      "outputs": [
        {
          "output_type": "stream",
          "name": "stdout",
          "text": [
            "1,addition\n",
            "2,subtraction\n",
            "3,multiplication\n",
            "4,division\n",
            "5,modulus\n",
            "6,floor division\n",
            "7,exponent\n",
            "select a number 6\n",
            "enter a number 10\n",
            "enter a number 3\n",
            "3\n"
          ]
        }
      ]
    },
    {
      "cell_type": "code",
      "source": [
        "import statistics\n",
        "sub1=float(input(\"enter sub1 mark \"))\n",
        "sub2=int(input(\"enter sub2 mark \"))\n",
        "sub3=int(input(\"enter sub3 mark \"))\n",
        "sub4=int(input(\"enter sub4 mark \"))\n",
        "sub5=int(input(\"enter sub5 mark \"))\n",
        "print(\"least mark is \",min(sub1,sub2,sub3,sub4,sub5))\n",
        "print(\"max mark is \",max(sub1,sub2,sub3,sub4,sub5))\n",
        "print(\"avg mark is \",statistics.mean([sub1,sub2,sub3,sub4,sub5]))\n",
        "print(\"round off \",round(statistics.mean([sub1,sub2,sub3,sub4,sub5]),3))"
      ],
      "metadata": {
        "colab": {
          "base_uri": "https://localhost:8080/"
        },
        "id": "jL4-nOGGsGAi",
        "outputId": "c4b854cd-1cd4-407b-ed8e-3fb8afbd30f9"
      },
      "execution_count": 35,
      "outputs": [
        {
          "output_type": "stream",
          "name": "stdout",
          "text": [
            "enter sub1 mark 95.367\n",
            "enter sub2 mark 99\n",
            "enter sub3 mark 97\n",
            "enter sub4 mark 93\n",
            "enter sub5 mark 96\n",
            "least mark is  93\n",
            "max mark is  99\n",
            "avg mark is  96.0734\n",
            "round off  96.073\n"
          ]
        }
      ]
    },
    {
      "cell_type": "code",
      "source": [],
      "metadata": {
        "id": "Tx7RQRaE0Pt4"
      },
      "execution_count": null,
      "outputs": []
    }
  ]
}