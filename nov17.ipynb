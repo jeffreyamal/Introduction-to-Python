{
  "nbformat": 4,
  "nbformat_minor": 0,
  "metadata": {
    "colab": {
      "provenance": []
    },
    "kernelspec": {
      "name": "python3",
      "display_name": "Python 3"
    },
    "language_info": {
      "name": "python"
    }
  },
  "cells": [
    {
      "cell_type": "code",
      "execution_count": 3,
      "metadata": {
        "colab": {
          "base_uri": "https://localhost:8080/"
        },
        "id": "cPM92OomzOFq",
        "outputId": "c380b6a1-3f04-4d5d-957d-1962130d6682"
      },
      "outputs": [
        {
          "output_type": "stream",
          "name": "stdout",
          "text": [
            "enter the number 5\n",
            "1 * 5 = 5\n",
            "2 * 5 = 10\n",
            "3 * 5 = 15\n",
            "4 * 5 = 20\n",
            "5 * 5 = 25\n",
            "6 * 5 = 30\n",
            "7 * 5 = 35\n",
            "8 * 5 = 40\n",
            "9 * 5 = 45\n",
            "10 * 5 = 50\n"
          ]
        }
      ],
      "source": [
        "num=int(input(\"enter the number \"))\n",
        "for i in range(1,11):\n",
        "  print(i,\"*\",num,\"=\",i*num)"
      ]
    },
    {
      "cell_type": "code",
      "source": [
        "num=int(input(\"enter number: \"))\n",
        "i=1\n",
        "while(i<=10):\n",
        "  print(i*num)\n",
        "  i=i+1"
      ],
      "metadata": {
        "colab": {
          "base_uri": "https://localhost:8080/"
        },
        "id": "m4VBSjCI0lRF",
        "outputId": "b33a732a-78a1-4706-cffd-36e6a163182e"
      },
      "execution_count": 5,
      "outputs": [
        {
          "output_type": "stream",
          "name": "stdout",
          "text": [
            "enter number: 5\n",
            "5\n",
            "10\n",
            "15\n",
            "20\n",
            "25\n",
            "30\n",
            "35\n",
            "40\n",
            "45\n",
            "50\n"
          ]
        }
      ]
    },
    {
      "cell_type": "code",
      "source": [
        "num=input(\"enter number: \")\n",
        "k=0\n",
        "for i in num:\n",
        "  k=k+1\n",
        "print(k)  "
      ],
      "metadata": {
        "colab": {
          "base_uri": "https://localhost:8080/"
        },
        "id": "4kCc-m6u1fNp",
        "outputId": "bcddd5af-bbba-4be6-ca02-29c2cec75896"
      },
      "execution_count": 7,
      "outputs": [
        {
          "output_type": "stream",
          "name": "stdout",
          "text": [
            "enter number: 15\n",
            "2\n"
          ]
        }
      ]
    },
    {
      "cell_type": "code",
      "source": [
        "string=input((\"enter string \"))\n",
        "reversestring= \"\"\n",
        "for i in string:\n",
        "  reversestring = i + reversestring\n",
        "print(\"reverse string: \",reversestring)\n",
        "if(string == reversestring):\n",
        "  print(\"the string is palindrome\")\n",
        "else:\n",
        "  print(\"the string is not palindrome\")    "
      ],
      "metadata": {
        "colab": {
          "base_uri": "https://localhost:8080/"
        },
        "id": "-TlzSnBe2AOV",
        "outputId": "6791853d-8788-4c04-9393-52adfa306c02"
      },
      "execution_count": 10,
      "outputs": [
        {
          "output_type": "stream",
          "name": "stdout",
          "text": [
            "enter string malayalam\n",
            "reverse string:  malayalam\n",
            "the string is palindrome\n"
          ]
        }
      ]
    },
    {
      "cell_type": "code",
      "source": [
        "name=input((\"enter name: \"))\n",
        "name=name.replace(\"a\",\"k\")\n",
        "print(name)"
      ],
      "metadata": {
        "colab": {
          "base_uri": "https://localhost:8080/"
        },
        "id": "d297PAJr8H5o",
        "outputId": "0f205b59-45d1-413a-f185-27afe2f2bdb2"
      },
      "execution_count": 13,
      "outputs": [
        {
          "output_type": "stream",
          "name": "stdout",
          "text": [
            "enter name: akash\n",
            "kkksh\n"
          ]
        }
      ]
    },
    {
      "cell_type": "code",
      "source": [
        "name=input((\"enter name \"))\n",
        "if name.isupper():\n",
        "  print(\"UPPER CASE\")\n",
        "  print(name.lower())\n",
        "if name.islower():\n",
        "  print(\"lower case\")\n",
        "  print(name.upper())"
      ],
      "metadata": {
        "colab": {
          "base_uri": "https://localhost:8080/"
        },
        "id": "koDo1gNb-ZMf",
        "outputId": "64b8c63d-b0fb-4054-d404-d290ffaeb9a0"
      },
      "execution_count": 15,
      "outputs": [
        {
          "output_type": "stream",
          "name": "stdout",
          "text": [
            "enter name jeffrey\n",
            "lower case\n",
            "JEFFREY\n"
          ]
        }
      ]
    },
    {
      "cell_type": "code",
      "source": [],
      "metadata": {
        "id": "i0gKbIcFALuN"
      },
      "execution_count": null,
      "outputs": []
    }
  ]
}